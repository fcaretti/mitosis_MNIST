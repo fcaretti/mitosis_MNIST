{
 "cells": [
  {
   "cell_type": "code",
   "execution_count": 1,
   "metadata": {},
   "outputs": [],
   "source": [
    "import torch\n",
    "import torchvision\n",
    "from torchvision.models import resnet50\n",
    "from torchvision.models.feature_extraction import get_graph_node_names,create_feature_extractor\n",
    "import torchvision.transforms as transforms\n",
    "from sklearn import  linear_model\n",
    "from sklearn.metrics import r2_score\n",
    "\n",
    "import numpy as np\n",
    "import scipy as sp\n",
    "import matplotlib.pyplot as plt\n",
    "from utils_MNIST import fully_connected_new, make_binary\n",
    "from saving_utils import load_weights\n",
    "\n",
    "from dadapy.data import Data"
   ]
  },
  {
   "cell_type": "code",
   "execution_count": 2,
   "metadata": {},
   "outputs": [],
   "source": [
    "def hm_diagonal(corr):\n",
    "    nondiag_entries = corr[np.tril_indices_from(corr, k = -1)]\n",
    "    return np.mean(abs(nondiag_entries))"
   ]
  },
  {
   "cell_type": "code",
   "execution_count": 3,
   "metadata": {},
   "outputs": [
    {
     "name": "stdout",
     "output_type": "stream",
     "text": [
      "Loaded dataset\n"
     ]
    }
   ],
   "source": [
    "dataset='pMNIST'\n",
    "depth=5\n",
    "W=512\n",
    "k=2\n",
    "learning_rate=2e-3\n",
    "weight_decay=1e-3\n",
    "teacher_width=8\n",
    "signal_noise_ratio=3.0\n",
    "n_epochs=500\n",
    "square_edge=3\n",
    "\n",
    "input_dim=10\n",
    "sample_size=10000\n",
    "optimizer_choice='SGD'\n",
    "\n",
    "transform = transforms.Compose(\n",
    "            [transforms.ToTensor(),\n",
    "             transforms.Normalize(0.5, 0.5)])\n",
    "\n",
    "\n",
    "'''weights=torch.load(f'./nets/{dataset}_trained_{depth}_layer_{W}_net_{k+1}_lr_{learning_rate}_wd_{weight_decay}_'\n",
    "                                             f'inputdim_{input_dim}_{optimizer_choice}.pth')'''\n",
    "weights=torch.load(load_weights(dataset,depth,W,k,learning_rate,weight_decay,input_dim,optimizer_choice,n_epochs,signal_noise_ratio,teacher_width,square_edge))\n",
    "big_net = fully_connected_new(W, depth=depth, input_size=input_dim, output_size=1,\n",
    "                                dropout=False, batch_norm=False, orthog_init=False)\n",
    "big_net.load_state_dict(weights)\n",
    "\n",
    "\n",
    "\n",
    "\n",
    "\n",
    "if dataset=='pMNIST':\n",
    "    trainset = torchvision.datasets.MNIST(root='./data', train=True,\n",
    "                                          download=True, transform=transform,target_transform=make_binary())\n",
    "    testset = torchvision.datasets.MNIST(root='./data', train=False,\n",
    "                                         download=True, transform=transform,target_transform=make_binary())\n",
    "    \n",
    "    # Here we just convert MNIST into parity MNIST\n",
    "    if input_dim !=784:\n",
    "        try:\n",
    "            trainset=torch.load(f'./data/MNIST_PCA_{input_dim}_train.pt')\n",
    "            testset=torch.load(f'./data/MNIST_PCA_{input_dim}_test.pt')\n",
    "            print(\"Loaded dataset\")\n",
    "        except IOError:\n",
    "            create_pMNIST_PCA_dataset(trainset,testset,784,input_dim)\n",
    "            print(\"Saved dataset\")\n",
    "            trainset=torch.load(f'./data/MNIST_PCA_{input_dim}_train.pt')\n",
    "            testset=torch.load(f'./data/MNIST_PCA_{input_dim}_test.pt')\n",
    "    if sample_size!=60000:\n",
    "        #random_list=random.sample(range(60000), args.sample_size)\n",
    "        ordered_list = list(range(0, sample_size - 1))\n",
    "        trainset=torch.utils.data.Subset(trainset,ordered_list)\n",
    "        \n",
    "        \n",
    "if dataset=='teacher':\n",
    "    trainset = torch.load(f'./data/{dataset}_{input_dim}_dimension_'\n",
    "                          f'teacherwidth_{teacher_width}_{signal_noise_ratio}_ratio_train_{sample_size}_samples.pt')\n",
    "    testset = torch.load(f'./data/{dataset}_{input_dim}_dimension_'\n",
    "                         f'teacherwidth_{teacher_width}_{signal_noise_ratio}_ratio_test_{10000}_samples.pt')     \n",
    "    \n",
    "    \n",
    "testloader = torch.utils.data.DataLoader(testset, batch_size=len(testset),\n",
    "                                         shuffle=False, num_workers=2)\n",
    "\n",
    "\n",
    "with torch.no_grad():\n",
    "    for data in testloader:\n",
    "        images, labels = data\n",
    "        # calculate outputs by running images through the network\n",
    "        outputs = big_net(images.float())\n",
    "nodes,_=get_graph_node_names(big_net)"
   ]
  },
  {
   "cell_type": "code",
   "execution_count": 4,
   "metadata": {},
   "outputs": [
    {
     "name": "stdout",
     "output_type": "stream",
     "text": [
      "['x', 'flatten', 'linear_body.0', 'linear_body.1', 'linear_body.2', 'linear_body.3', 'linear_body.4', 'linear_body.5', 'linear_body.6', 'linear_body.7', 'linear_out']\n"
     ]
    }
   ],
   "source": [
    "print(nodes)"
   ]
  },
  {
   "cell_type": "code",
   "execution_count": 15,
   "metadata": {},
   "outputs": [],
   "source": [
    "features={nodes[-2]:'out'}"
   ]
  },
  {
   "cell_type": "code",
   "execution_count": 16,
   "metadata": {},
   "outputs": [],
   "source": [
    "feature_extractor=create_feature_extractor(big_net,return_nodes=features)"
   ]
  },
  {
   "cell_type": "code",
   "execution_count": 17,
   "metadata": {},
   "outputs": [
    {
     "data": {
      "text/plain": [
       "fully_connected_new(\n",
       "  (linear_body): Module(\n",
       "    (0): Linear(in_features=10, out_features=512, bias=True)\n",
       "    (1): ReLU(inplace=True)\n",
       "    (2): Linear(in_features=512, out_features=512, bias=True)\n",
       "    (3): ReLU(inplace=True)\n",
       "    (4): Linear(in_features=512, out_features=512, bias=True)\n",
       "    (5): ReLU(inplace=True)\n",
       "    (6): Linear(in_features=512, out_features=512, bias=True)\n",
       "    (7): ReLU(inplace=True)\n",
       "  )\n",
       "  (linear_out): Linear(in_features=512, out_features=1, bias=True)\n",
       ")"
      ]
     },
     "execution_count": 17,
     "metadata": {},
     "output_type": "execute_result"
    }
   ],
   "source": [
    "feature_extractor"
   ]
  },
  {
   "cell_type": "code",
   "execution_count": 8,
   "metadata": {},
   "outputs": [],
   "source": [
    "with torch.no_grad():\n",
    "    for data in testloader:\n",
    "        images, _ = data\n",
    "        # calculate outputs by running images through the network\n",
    "        outputs = feature_extractor(images.float())"
   ]
  },
  {
   "cell_type": "code",
   "execution_count": 9,
   "metadata": {},
   "outputs": [
    {
     "name": "stdout",
     "output_type": "stream",
     "text": [
      "{'out': tensor([[0.3747, 0.0000, 0.2803,  ..., 0.0023, 0.0366, 0.0000],\n",
      "        [0.1613, 0.2046, 0.1494,  ..., 0.0379, 0.0644, 0.0745],\n",
      "        [0.3007, 0.0000, 0.2570,  ..., 0.0000, 0.0800, 0.0000],\n",
      "        ...,\n",
      "        [0.0559, 0.3128, 0.1158,  ..., 0.0513, 0.0974, 0.1266],\n",
      "        [0.4194, 0.0000, 0.3096,  ..., 0.0296, 0.0445, 0.0000],\n",
      "        [0.0000, 0.8371, 0.0000,  ..., 0.1162, 0.1864, 0.2547]])}\n"
     ]
    }
   ],
   "source": [
    "print(outputs)"
   ]
  },
  {
   "cell_type": "code",
   "execution_count": 10,
   "metadata": {},
   "outputs": [
    {
     "name": "stdout",
     "output_type": "stream",
     "text": [
      "<class 'torch.Tensor'>\n",
      "290\n"
     ]
    }
   ],
   "source": [
    "X=outputs['out']\n",
    "print(type(X))\n",
    "#print(X[0])\n",
    "count=0\n",
    "X_check=X.numpy()\n",
    "for i in range(len(X_check[0])):\n",
    "    if X_check[0][i]==0:\n",
    "        count+=1\n",
    "print(count)"
   ]
  },
  {
   "cell_type": "code",
   "execution_count": null,
   "metadata": {},
   "outputs": [],
   "source": []
  },
  {
   "cell_type": "code",
   "execution_count": 11,
   "metadata": {},
   "outputs": [
    {
     "name": "stdout",
     "output_type": "stream",
     "text": [
      "1\n",
      "2\n",
      "4\n",
      "8\n",
      "16\n",
      "32\n",
      "64\n",
      "128\n",
      "256\n",
      "512\n"
     ]
    }
   ],
   "source": [
    "### fit on full layer from chunks\n",
    "\n",
    "# chunk sizes\n",
    "css = [1, 2, 4, 8, 16, 32, 64, 128, 256, 512]\n",
    "\n",
    "# number of repetitions\n",
    "nreps = 5\n",
    "\n",
    "# initialised matrices of residuals and covariances\n",
    "rsqs = np.zeros((len(css), nreps))\n",
    "diag_covs = np.zeros((len(css), 512, nreps))\n",
    "covs = np.zeros((len(css), 512, 512, nreps))\n",
    "\n",
    "for i, cs in enumerate(css):\n",
    "    print(cs)\n",
    "\n",
    "    for r in range(nreps):\n",
    "    \n",
    "        indices = np.random.choice(np.arange(512), (cs), replace = False)\n",
    "        Xc = X[:, indices]\n",
    "        \n",
    "        lm = linear_model.LinearRegression()\n",
    "        lm = linear_model.Ridge(1e-8)\n",
    "        \n",
    "        lm.fit(Xc, X)\n",
    "        X_pred = lm.predict(Xc)\n",
    "        \n",
    "        res = (X - X_pred)\n",
    "        cov = np.cov(res.T)\n",
    "        diag_covs[i, :, r] = np.diag(cov)\n",
    "        \n",
    "        rsqs[i, r]= r2_score(X, X_pred, multioutput = 'variance_weighted')\n",
    "        covs[i,:, :, r] = cov"
   ]
  },
  {
   "cell_type": "code",
   "execution_count": 12,
   "metadata": {},
   "outputs": [],
   "source": [
    "# compute regolarised correlation of residuals\n",
    "reg = 1e-8\n",
    "corrs = covs/(np.sqrt((diag_covs[:, :, None, :]*diag_covs[:, None, :, :]))+reg)\n",
    "\n",
    "mean_non_diag_abs_corr = np.zeros((corrs.shape[0], corrs.shape[3]))\n",
    "\n",
    "for i in range(corrs.shape[0]):\n",
    "    for j in range(corrs.shape[3]):\n",
    "        mean_non_diag_abs_corr[i, j] = hm_diagonal(corrs[i, :, :, j])"
   ]
  },
  {
   "cell_type": "code",
   "execution_count": 13,
   "metadata": {},
   "outputs": [
    {
     "data": {
      "text/plain": [
       "Text(0.5, 1.0, 'fitting from X_chunk to X_full')"
      ]
     },
     "execution_count": 13,
     "metadata": {},
     "output_type": "execute_result"
    },
    {
     "data": {
      "image/png": "[encoded data removed]",
      "text/plain": [
       "<Figure size 432x288 with 1 Axes>"
      ]
     },
     "metadata": {
      "needs_background": "light"
     },
     "output_type": "display_data"
    }
   ],
   "source": [
    "# plot R^2 value\n",
    "plt.figure()\n",
    "plt.errorbar(css, rsqs.mean(axis = 1)\n",
    "             , rsqs.std(axis = 1)/np.sqrt(50), marker = 'o');\n",
    "plt.xscale('log');\n",
    "plt.xticks(css, css);\n",
    "plt.xlabel('chunk size')\n",
    "plt.ylabel('R^2')\n",
    "plt.title('fitting from X_chunk to X_full')"
   ]
  },
  {
   "cell_type": "code",
   "execution_count": 14,
   "metadata": {},
   "outputs": [
    {
     "data": {
      "text/plain": [
       "Text(0.5, 1.0, 'fitting from X_chunk to X_full')"
      ]
     },
     "execution_count": 14,
     "metadata": {},
     "output_type": "execute_result"
    },
    {
     "data": {
      "image/png": "[encoded data removed]",
      "text/plain": [
       "<Figure size 432x288 with 1 Axes>"
      ]
     },
     "metadata": {
      "needs_background": "light"
     },
     "output_type": "display_data"
    }
   ],
   "source": [
    "# plot mean nondiagonal absolute correlation\n",
    "plt.figure()\n",
    "plt.errorbar(css, mean_non_diag_abs_corr.mean(axis = 1)\n",
    "             , mean_non_diag_abs_corr.std(axis = 1)/np.sqrt(25), marker = 'o');\n",
    "plt.xscale('log');\n",
    "plt.xticks(css, css);\n",
    "plt.xlabel('chunk size')\n",
    "plt.ylabel('mean nondiagonal absolute correlation')\n",
    "plt.title('fitting from X_chunk to X_full')"
   ]
  },
  {
   "cell_type": "code",
   "execution_count": 273,
   "metadata": {},
   "outputs": [],
   "source": [
    "data = Data(X_check)"
   ]
  },
  {
   "cell_type": "code",
   "execution_count": 274,
   "metadata": {},
   "outputs": [
    {
     "data": {
      "text/plain": [
       "(2.050542756277984, 0.0, 0.004485888685192985)"
      ]
     },
     "execution_count": 274,
     "metadata": {},
     "output_type": "execute_result"
    }
   ],
   "source": [
    "data.compute_id_2NN()"
   ]
  },
  {
   "cell_type": "code",
   "execution_count": 194,
   "metadata": {},
   "outputs": [],
   "source": [
    "x=np.linspace(-1.5,1.5,1000)\n",
    "\n",
    "def theta(x):\n",
    "    out=[]\n",
    "    for i in x:\n",
    "        if i<0:\n",
    "            out.append(0)\n",
    "        else: \n",
    "            out.append(1)\n",
    "    return out"
   ]
  },
  {
   "cell_type": "code",
   "execution_count": 195,
   "metadata": {},
   "outputs": [
    {
     "data": {
      "text/plain": [
       "<matplotlib.legend.Legend at 0x7f6d68d2a350>"
      ]
     },
     "execution_count": 195,
     "metadata": {},
     "output_type": "execute_result"
    },
    {
     "data": {
      "image/png": "[encoded data removed]",
      "text/plain": [
       "<Figure size 432x288 with 1 Axes>"
      ]
     },
     "metadata": {
      "needs_background": "light"
     },
     "output_type": "display_data"
    }
   ],
   "source": [
    "plt.plot(x,theta(x),label='$ \\Theta (z)$')\n",
    "x=torch.from_numpy(x)\n",
    "plt.plot(x,torch.relu(x),label='$ReLU(z)$')\n",
    "plt.plot(x,torch.sigmoid(3*x),label='$\\sigma(3z)$')\n",
    "#plt.title('Example of different activation functions')\n",
    "plt.xlabel('z')\n",
    "plt.ylabel('g(z)')\n",
    "plt.legend()"
   ]
  },
  {
   "cell_type": "code",
   "execution_count": null,
   "metadata": {},
   "outputs": [],
   "source": []
  }
 ],
 "metadata": {
  "kernelspec": {
   "display_name": "Python 3",
   "language": "python",
   "name": "python3"
  },
  "language_info": {
   "codemirror_mode": {
    "name": "ipython",
    "version": 3
   },
   "file_extension": ".py",
   "mimetype": "text/x-python",
   "name": "python",
   "nbconvert_exporter": "python",
   "pygments_lexer": "ipython3",
   "version": "3.7.6"
  }
 },
 "nbformat": 4,
 "nbformat_minor": 4
}
