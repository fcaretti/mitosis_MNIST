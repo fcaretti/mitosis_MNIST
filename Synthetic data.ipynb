{
 "cells": [
  {
   "cell_type": "markdown",
   "metadata": {},
   "source": [
    "# Synthetic data Notebook\n",
    "### This notebook is used to check the validity of the artificial data used in the mitosis transition project"
   ]
  },
  {
   "cell_type": "code",
   "execution_count": 1,
   "metadata": {},
   "outputs": [],
   "source": [
    "import torch\n",
    "import torch.nn as nn\n",
    "import torch.nn.functional as F\n",
    "import numpy as np\n",
    "from torch import Tensor\n",
    "from random import random\n",
    "from random import randint\n",
    "from random import seed\n",
    "from random import shuffle\n",
    "import torchvision\n",
    "import torchvision.transforms as transforms\n",
    "import matplotlib.pyplot as plt\n",
    "import utils_MNIST"
   ]
  },
  {
   "cell_type": "markdown",
   "metadata": {},
   "source": [
    "## XOR Dataset"
   ]
  },
  {
   "cell_type": "code",
   "execution_count": 4,
   "metadata": {},
   "outputs": [
    {
     "ename": "NameError",
     "evalue": "name 'signal_noise_ratio' is not defined",
     "output_type": "error",
     "traceback": [
      "\u001b[0;31m---------------------------------------------------------------------------\u001b[0m",
      "\u001b[0;31mNameError\u001b[0m                                 Traceback (most recent call last)",
      "\u001b[0;32m<ipython-input-4-c0e1ad269e41>\u001b[0m in \u001b[0;36m<module>\u001b[0;34m\u001b[0m\n\u001b[1;32m     10\u001b[0m \u001b[0;34m\u001b[0m\u001b[0m\n\u001b[1;32m     11\u001b[0m \u001b[0;31m#here we build the gaussians in 2D\u001b[0m\u001b[0;34m\u001b[0m\u001b[0;34m\u001b[0m\u001b[0;34m\u001b[0m\u001b[0m\n\u001b[0;32m---> 12\u001b[0;31m \u001b[0mmatrix_model_1\u001b[0m \u001b[0;34m=\u001b[0m \u001b[0mtorch\u001b[0m\u001b[0;34m.\u001b[0m\u001b[0mnormal\u001b[0m\u001b[0;34m(\u001b[0m\u001b[0;36m0.5\u001b[0m\u001b[0;34m,\u001b[0m \u001b[0;36m0.5\u001b[0m\u001b[0;34m/\u001b[0m\u001b[0msignal_noise_ratio\u001b[0m\u001b[0;34m,\u001b[0m \u001b[0;34m(\u001b[0m\u001b[0;36m2\u001b[0m\u001b[0;34m,\u001b[0m \u001b[0mround\u001b[0m\u001b[0;34m(\u001b[0m\u001b[0mdataset_size\u001b[0m \u001b[0;34m/\u001b[0m \u001b[0;36m4\u001b[0m\u001b[0;34m)\u001b[0m\u001b[0;34m)\u001b[0m\u001b[0;34m)\u001b[0m\u001b[0;34m\u001b[0m\u001b[0;34m\u001b[0m\u001b[0m\n\u001b[0m\u001b[1;32m     13\u001b[0m \u001b[0mmatrix_model_2\u001b[0m \u001b[0;34m=\u001b[0m \u001b[0mtorch\u001b[0m\u001b[0;34m.\u001b[0m\u001b[0mnormal\u001b[0m\u001b[0;34m(\u001b[0m\u001b[0;34m-\u001b[0m\u001b[0;36m0.5\u001b[0m\u001b[0;34m,\u001b[0m \u001b[0;36m0.5\u001b[0m\u001b[0;34m/\u001b[0m\u001b[0msignal_noise_ratio\u001b[0m\u001b[0;34m,\u001b[0m \u001b[0;34m(\u001b[0m\u001b[0;36m2\u001b[0m\u001b[0;34m,\u001b[0m \u001b[0mround\u001b[0m\u001b[0;34m(\u001b[0m\u001b[0mdataset_size\u001b[0m \u001b[0;34m/\u001b[0m \u001b[0;36m4\u001b[0m\u001b[0;34m)\u001b[0m\u001b[0;34m)\u001b[0m\u001b[0;34m)\u001b[0m\u001b[0;34m\u001b[0m\u001b[0;34m\u001b[0m\u001b[0m\n\u001b[1;32m     14\u001b[0m \u001b[0mmeans_3\u001b[0m \u001b[0;34m=\u001b[0m \u001b[0mtorch\u001b[0m\u001b[0;34m.\u001b[0m\u001b[0mtensor\u001b[0m\u001b[0;34m(\u001b[0m\u001b[0mnp\u001b[0m\u001b[0;34m.\u001b[0m\u001b[0marray\u001b[0m\u001b[0;34m(\u001b[0m\u001b[0;34m[\u001b[0m\u001b[0;34m[\u001b[0m\u001b[0;36m0.5\u001b[0m\u001b[0;34m]\u001b[0m\u001b[0;34m,\u001b[0m \u001b[0;34m[\u001b[0m\u001b[0;34m-\u001b[0m\u001b[0;36m0.5\u001b[0m\u001b[0;34m]\u001b[0m\u001b[0;34m]\u001b[0m\u001b[0;34m)\u001b[0m\u001b[0;34m)\u001b[0m\u001b[0;34m.\u001b[0m\u001b[0mrepeat\u001b[0m\u001b[0;34m(\u001b[0m\u001b[0;36m1\u001b[0m\u001b[0;34m,\u001b[0m \u001b[0mround\u001b[0m\u001b[0;34m(\u001b[0m\u001b[0mdataset_size\u001b[0m \u001b[0;34m/\u001b[0m \u001b[0;36m4\u001b[0m\u001b[0;34m)\u001b[0m\u001b[0;34m)\u001b[0m\u001b[0;34m\u001b[0m\u001b[0;34m\u001b[0m\u001b[0m\n",
      "\u001b[0;31mNameError\u001b[0m: name 'signal_noise_ratio' is not defined"
     ]
    }
   ],
   "source": [
    "trainset_size=1000\n",
    "testset_size=10000\n",
    "input_dim=2 #dimension in which the XOR is embedded\n",
    "signal_to_noise_ratio=1. #ratio between the center of the gaussians and their std \n",
    "\n",
    "dataset_size = trainset_size+testset_size\n",
    "\n",
    "#build a random matrix in all the other dimensions\n",
    "matrix_random = torch.normal(0, 1, (input_dim - 2, dataset_size))\n",
    "\n",
    "#here we build the gaussians in 2D\n",
    "matrix_model_1 = torch.normal(0.5, 0.5/signal_noise_ratio, (2, round(dataset_size / 4)))\n",
    "matrix_model_2 = torch.normal(-0.5, 0.5/signal_noise_ratio, (2, round(dataset_size / 4)))\n",
    "means_3 = torch.tensor(np.array([[0.5], [-0.5]])).repeat(1, round(dataset_size / 4))\n",
    "means_4 = torch.tensor(np.array([[-0.5], [0.5]])).repeat(1, round(dataset_size / 4))\n",
    "matrix_model_3 = torch.normal(means_3, 0.5/signal_noise_ratio)\n",
    "matrix_model_4 = torch.normal(means_4, 0.5/signal_noise_ratio)\n",
    "\n",
    "#put them together in a big matrix\n",
    "big_matrix = torch.cat((matrix_model_1, matrix_model_2, matrix_model_3, matrix_model_4), 1)\n",
    "big_matrix = torch.cat((matrix_random, big_matrix), 0)\n",
    "\n",
    "#shuffle the dimensions\n",
    "big_matrix = big_matrix[torch.randperm(input_dim)]\n",
    "\n",
    "#shuffle the samples\n",
    "big_matrix = torch.transpose(big_matrix, 0, 1)\n",
    "labels = torch.cat((torch.zeros(round(dataset_size / 2)), torch.ones(round(dataset_size / 2))), 0)\n",
    "indexes=torch.randperm(dataset_size)\n",
    "labels_dataset=labels[indexes]\n",
    "X_dataset=big_matrix[indexes]\n",
    "\n",
    "#create the dataset\n",
    "train_set = CustomDataSet(X_dataset[:trainset_size], labels_dataset[:trainset_size], input_dim)\n",
    "test_set = CustomDataSet(X_dataset[trainset_size:], labels_dataset[trainset_size:], input_dim)\n",
    "#torch.save(train_set, f'./data/XOR_{input_dim}_dimension_{signal_noise_ratio}_ratio_train_{trainset_size}_samples.pt')\n",
    "#torch.save(test_set, f'./data/XOR_{input_dim}_dimension_{signal_noise_ratio}_ratio_test_{testset_size}_samples.pt')"
   ]
  },
  {
   "cell_type": "code",
   "execution_count": 84,
   "metadata": {},
   "outputs": [],
   "source": [
    "def create_XOR_dataset(trainset_size, testset_size, input_dim,signal_noise_ratio):\n",
    "    dataset_size = trainset_size+testset_size\n",
    "    matrix_random = torch.normal(0, 1, (input_dim - 2, dataset_size))\n",
    "    matrix_model_1 = torch.normal(0.5, 0.5/signal_noise_ratio, (2, round(dataset_size / 4)))\n",
    "    matrix_model_2 = torch.normal(-0.5, 0.5/signal_noise_ratio, (2, round(dataset_size / 4)))\n",
    "    means_3 = torch.tensor(np.array([[0.5], [-0.5]])).repeat(1, round(dataset_size / 4))\n",
    "    means_4 = torch.tensor(np.array([[-0.5], [0.5]])).repeat(1, round(dataset_size / 4))\n",
    "    matrix_model_3 = torch.normal(means_3, 0.5/signal_noise_ratio)\n",
    "    matrix_model_4 = torch.normal(means_4, 0.5/signal_noise_ratio)\n",
    "    big_matrix = torch.cat((matrix_model_1, matrix_model_2, matrix_model_3, matrix_model_4), 1)\n",
    "    big_matrix = torch.cat((matrix_random, big_matrix), 0)\n",
    "    big_matrix = big_matrix[torch.randperm(input_dim)]\n",
    "    big_matrix = torch.transpose(big_matrix, 0, 1)\n",
    "    labels = torch.cat((torch.zeros(round(dataset_size / 2)), torch.ones(round(dataset_size / 2))), 0)\n",
    "    indexes=torch.randperm(dataset_size)\n",
    "    labels_dataset=labels[indexes]\n",
    "    X_dataset=big_matrix[indexes]\n",
    "    train_set = utils_MNIST.CustomDataSet(X_dataset[:trainset_size], labels_dataset[:trainset_size], input_dim)\n",
    "    test_set = utils_MNIST.CustomDataSet(X_dataset[trainset_size:], labels_dataset[trainset_size:], input_dim)\n",
    "    torch.save(train_set, f'./data/XOR_{input_dim}_dimension_{signal_noise_ratio}_ratio_train_{trainset_size}_samples.pt')\n",
    "    torch.save(test_set, f'./data/XOR_{input_dim}_dimension_{signal_noise_ratio}_ratio_test_{testset_size}_samples.pt')\n"
   ]
  },
  {
   "cell_type": "markdown",
   "metadata": {},
   "source": [
    "## Teacher-Student setup\n",
    "### Creation of the teacher dataset"
   ]
  },
  {
   "cell_type": "code",
   "execution_count": 81,
   "metadata": {},
   "outputs": [],
   "source": [
    "teacher_width=4\n",
    "sample_size=1000\n",
    "depth=2\n",
    "input_dim=100\n",
    "noise_ratio=1.\n",
    "output_size=1\n",
    "\n",
    "#inputs are gaussian\n",
    "inputs=torch.normal(0,1,(sample_size,round(input_dim)))\n",
    "\n",
    "#the teacher is a small 2-layer neural network\n",
    "teacher=utils_MNIST.fully_connected_new(teacher_width, depth, input_dim, output_size=1,\n",
    "                                dropout=False, batch_norm=False, orthog_init=False, gaussian_init=True)"
   ]
  },
  {
   "cell_type": "code",
   "execution_count": 82,
   "metadata": {},
   "outputs": [],
   "source": [
    "#labels are generated through the teacher network\n",
    "outputs=teacher(inputs)\n",
    "\n",
    "#add some noise \n",
    "mean=torch.mean(outputs).item()\n",
    "std=torch.std(outputs).item()\n",
    "labels=torch.normal(0,(std/noise_ratio),(sample_size,1))+outputs\n",
    "\n",
    "#make binary labels and balanced classes\n",
    "labels=labels-mean\n",
    "labels[labels<0]=0\n",
    "labels[labels>0]=1\n",
    "labels=torch.squeeze(labels)\n",
    "\n",
    "#create the dataset\n",
    "train_set = utils_MNIST.CustomDataSet(inputs[:trainset_size], labels[:trainset_size], input_dim)\n",
    "test_set = utils_MNIST.CustomDataSet(inputs[trainset_size:], labels[trainset_size:], input_dim)\n",
    "#torch.save(train_set, f'./data/teacher_{input_dim}_dimension_{teacher_width}_width_{noise_ratio}_noise_train_{trainset_size}_samples.pt')\n",
    "#torch.save(test_set, f'./data/teacher_{input_dim}_dimension_{teacher_width}_width_{noise_ratio}_noise_test_{testset_size}_samples.pt')"
   ]
  },
  {
   "cell_type": "code",
   "execution_count": null,
   "metadata": {},
   "outputs": [],
   "source": [
    "def create_teacher_dataset(trainset_size, testset_size, input_dim, teacher_width, noise_ratio):\n",
    "    depth=2\n",
    "    sample_size=trainset_size+testset_size\n",
    "    teacher=utils_MNIST.fully_connected_new(teacher_width, depth, input_dim, output_size=1,\n",
    "                                dropout=False, batch_norm=False, orthog_init=False, gaussian_init=True)\n",
    "    inputs=torch.normal(0,1,(sample_size,round(input_dim)))\n",
    "    outputs=teacher(inputs)\n",
    "    mean=torch.mean(outputs).item()\n",
    "    std=torch.std(outputs).item()\n",
    "    labels=torch.normal(0,(std/noise_ratio),(sample_size,1))+outputs\n",
    "    labels=labels-mean\n",
    "    labels[labels<0]=0\n",
    "    labels[labels>0]=1\n",
    "    labels=torch.squeeze(labels)\n",
    "    train_set = utils_MNIST.CustomDataSet(inputs[:trainset_size], labels[:trainset_size], input_dim)\n",
    "    test_set = utils_MNIST.CustomDataSet(inputs[trainset_size:], labels[trainset_size:], input_dim)\n",
    "    #torch.save(train_set, f'./data/teacher_{input_dim}_dimension_{teacher_width}_width_{noise_ratio}_noise_train_{trainset_size}_samples.pt')\n",
    "    #torch.save(test_set, f'./data/teacher_{input_dim}_dimension_{teacher_width}_width_{noise_ratio}_noise_test_{testset_size}_samples.pt')\n",
    "    print('Teacher dataset created')"
   ]
  },
  {
   "cell_type": "code",
   "execution_count": null,
   "metadata": {},
   "outputs": [],
   "source": [
    "create_teacher_dataset(10,10,10,4,2)"
   ]
  },
  {
   "cell_type": "markdown",
   "metadata": {},
   "source": [
    "## Extended XOR\n",
    "### Try with the generalized case! Here we use more gaussians to generated the data, although they continue to live in a 2-dimensional manifold"
   ]
  },
  {
   "cell_type": "code",
   "execution_count": 46,
   "metadata": {},
   "outputs": [
    {
     "name": "stdout",
     "output_type": "stream",
     "text": [
      "[tensor([[0., 0.]]), tensor([[0.0000, 0.8000]]), tensor([[0.8000, 0.8000]]), tensor([[ 0.0000, -0.8000]]), tensor([[-0.8000, -0.8000]]), tensor([[-0.8000,  0.0000]]), tensor([[-0.8000,  0.8000]]), tensor([[ 0.8000, -0.8000]]), tensor([[0.8000, 0.0000]])]\n"
     ]
    }
   ],
   "source": [
    "trainset_size=500\n",
    "testset_size=10000\n",
    "square_edge=3\n",
    "input_dim=20\n",
    "signal_noise_ratio=2.\n",
    "dataset_size=trainset_size+testset_size\n",
    "area=square_edge**2\n",
    "\n",
    "#from edge and signal_noise_ratio to location of the means and standard deviation\n",
    "std=1/(1+signal_noise_ratio*(square_edge-1))\n",
    "distance=2/(square_edge-1+1/signal_noise_ratio)\n",
    "\n",
    "#again, random matrix for the embedding dimensions\n",
    "matrix_random = torch.normal(0, 1, (dataset_size,input_dim-2))\n",
    "\n",
    "#create the \"models\" and shuffle\n",
    "means=[]\n",
    "for i in range(square_edge):\n",
    "    for j in range(square_edge):\n",
    "        means.append(torch.unsqueeze(torch.Tensor([-1+std+i*distance,-1+std+j*distance]),0))\n",
    "shuffle(means)\n",
    "print(means)"
   ]
  },
  {
   "cell_type": "code",
   "execution_count": 47,
   "metadata": {},
   "outputs": [],
   "source": [
    "#create the models for the dataset\n",
    "tensor=torch.empty(0,2)\n",
    "for i in range(round(dataset_size/2)):\n",
    "    tensor=torch.cat((tensor,means[randint(0,round(area/2)-1)]),0)\n",
    "for i in range(round(dataset_size/2)):\n",
    "    tensor=torch.cat((tensor,means[randint(round(area/2),area-1)]),0)\n",
    "\n",
    "#from the models to the gaussians    \n",
    "small_matrix=torch.normal(tensor,std)"
   ]
  },
  {
   "cell_type": "code",
   "execution_count": 48,
   "metadata": {},
   "outputs": [
    {
     "data": {
      "text/plain": [
       "<matplotlib.collections.PathCollection at 0x7fe0fc3d9910>"
      ]
     },
     "execution_count": 48,
     "metadata": {},
     "output_type": "execute_result"
    },
    {
     "data": {
      "image/png": "[encoded data removed]",
      "text/plain": [
       "<Figure size 432x288 with 1 Axes>"
      ]
     },
     "metadata": {
      "needs_background": "light"
     },
     "output_type": "display_data"
    }
   ],
   "source": [
    "#visualization of the gaussians! Also, for small values of the edge, it is quite likely that the gaussians end up\n",
    "#being linearly separable, so better check visually\n",
    "x=torch.transpose(small_matrix,0,1)[0][:round(dataset_size/2)]\n",
    "y=torch.transpose(small_matrix,0,1)[1][:round(dataset_size/2)]\n",
    "plt.scatter(x, y,color='blue')\n",
    "x1=torch.transpose(small_matrix,0,1)[0][round(dataset_size/2):]\n",
    "y1=torch.transpose(small_matrix,0,1)[1][round(dataset_size/2):]\n",
    "plt.scatter(x1,y1,color='red')\n"
   ]
  },
  {
   "cell_type": "code",
   "execution_count": 49,
   "metadata": {},
   "outputs": [],
   "source": [
    "#embed the data in the higher dimension\n",
    "big_matrix=torch.cat((small_matrix,matrix_random),1)\n",
    "\n",
    "#shuffle the data\n",
    "labels = torch.cat((torch.zeros(round(dataset_size / 2)), torch.ones(round(dataset_size / 2))), 0)\n",
    "indexes=torch.randperm(dataset_size)\n",
    "labels_dataset=labels[indexes]\n",
    "X_dataset=big_matrix[indexes]\n",
    "\n",
    "#shuffle the dimensions\n",
    "X_dataset=torch.transpose(torch.transpose(X_dataset,0,1)[torch.randperm(input_dim)],0,1)\n",
    "\n",
    "#create and save dataset\n",
    "train_set = utils_MNIST.CustomDataSet(X_dataset[:trainset_size], labels_dataset[:trainset_size], input_dim)\n",
    "test_set = utils_MNIST.CustomDataSet(X_dataset[trainset_size:], labels_dataset[trainset_size:], input_dim)\n",
    "torch.save(train_set, f'./data/generalized_XOR_{square_edge}_edge_{input_dim}_dimension_{signal_noise_ratio}_ratio_train_{trainset_size}_samples.pt')\n",
    "torch.save(test_set, f'./data/generalized_XOR_{square_edge}_edge_{input_dim}_dimension_{signal_noise_ratio}_ratio_test_{testset_size}_samples.pt')"
   ]
  },
  {
   "cell_type": "markdown",
   "metadata": {},
   "source": []
  }
 ],
 "metadata": {
  "kernelspec": {
   "display_name": "Python 3",
   "language": "python",
   "name": "python3"
  },
  "language_info": {
   "codemirror_mode": {
    "name": "ipython",
    "version": 3
   },
   "file_extension": ".py",
   "mimetype": "text/x-python",
   "name": "python",
   "nbconvert_exporter": "python",
   "pygments_lexer": "ipython3",
   "version": "3.7.6"
  }
 },
 "nbformat": 4,
 "nbformat_minor": 4
}
